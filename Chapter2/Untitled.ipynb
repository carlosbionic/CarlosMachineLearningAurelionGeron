{
 "cells": [
  {
   "cell_type": "markdown",
   "metadata": {},
   "source": [
    "# California housing prices \n",
    "\n",
    "## Framing the problem\n",
    "\n",
    "#### 1) Is it supervised, unsupervised, or reinforcement learning?\n",
    "\n",
    "This problem seems to be \n",
    "\n",
    "#### 2) Is it a classification task, a regression task, or something else?\n",
    "\n",
    "#### 3) Should you use batch learning or online learning techniques?"
   ]
  },
  {
   "cell_type": "code",
   "execution_count": null,
   "metadata": {},
   "outputs": [],
   "source": []
  }
 ],
 "metadata": {
  "kernelspec": {
   "display_name": "Python 3",
   "language": "python",
   "name": "python3"
  },
  "language_info": {
   "codemirror_mode": {
    "name": "ipython",
    "version": 3
   },
   "file_extension": ".py",
   "mimetype": "text/x-python",
   "name": "python",
   "nbconvert_exporter": "python",
   "pygments_lexer": "ipython3",
   "version": "3.6.4"
  }
 },
 "nbformat": 4,
 "nbformat_minor": 2
}
